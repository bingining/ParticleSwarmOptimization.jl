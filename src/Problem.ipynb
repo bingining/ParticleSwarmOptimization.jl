{
 "cells": [
  {
   "cell_type": "code",
   "execution_count": 2,
   "metadata": {},
   "outputs": [],
   "source": [
    "using Knet\n",
    "\n",
    "abstract type Data end\n",
    "\n",
    "struct Single <: Data\n",
    "    x\n",
    "    y\n",
    "end\n",
    "\n",
    "struct MiniBatch <: Data\n",
    "    trn\n",
    "    dev\n",
    "    tst\n",
    "    MiniBatch(trn) = new(trn, Any[], Any[])\n",
    "    MiniBatch(trn, tst) = new(trn, Any[], tst)\n",
    "end\n",
    "\n",
    "abstract type Problem end\n",
    "\n",
    "struct RegularProblem <: Problem\n",
    "    f::Function\n",
    "    dim::Int\n",
    "    l::Array{Float64, 1}\n",
    "    h::Array{Float64, 1}\n",
    "    RegularProblem(f, dim, l::Float64, h::Float64) = new(f, dim, ones(Float64, dim) * l, ones(Float64, dim) * h)\n",
    "    RegularProblem(f, dim, l::Array{Float64,1}, h::Array{Float64,1}) = new(f, dim, l, h)\n",
    "end\n",
    "\n",
    "struct NNProblem <: Problem\n",
    "    f::Symbol\n",
    "    l::Float64\n",
    "    h::Float64\n",
    "    data::Data\n",
    "    loss\n",
    "end"
   ]
  }
 ],
 "metadata": {
  "kernelspec": {
   "display_name": "Julia 1.1.0",
   "language": "julia",
   "name": "julia-1.1"
  },
  "language_info": {
   "file_extension": ".jl",
   "mimetype": "application/julia",
   "name": "julia",
   "version": "1.1.0"
  }
 },
 "nbformat": 4,
 "nbformat_minor": 2
}
